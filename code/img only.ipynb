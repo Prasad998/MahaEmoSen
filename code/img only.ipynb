{
  "cells": [
    {
      "cell_type": "code",
      "execution_count": null,
      "metadata": {
        "colab": {
          "base_uri": "https://localhost:8080/"
        },
        "id": "CDvJN1ukqrGr",
        "outputId": "9ef271a9-965e-44e4-c168-1ab6c73065f6"
      },
      "outputs": [
        {
          "output_type": "stream",
          "name": "stdout",
          "text": [
            "Drive already mounted at /content/gdrive; to attempt to forcibly remount, call drive.mount(\"/content/gdrive\", force_remount=True).\n"
          ]
        }
      ],
      "source": [
        "from google.colab import drive\n",
        "drive.mount('/content/gdrive')"
      ]
    },
    {
      "cell_type": "code",
      "source": [
        "!pip install keras_preprocessing"
      ],
      "metadata": {
        "colab": {
          "base_uri": "https://localhost:8080/"
        },
        "id": "PDu2S3yOXUDp",
        "outputId": "c24800dc-ff62-4a6d-a9ea-b01e664047d6"
      },
      "execution_count": null,
      "outputs": [
        {
          "output_type": "stream",
          "name": "stdout",
          "text": [
            "Looking in indexes: https://pypi.org/simple, https://us-python.pkg.dev/colab-wheels/public/simple/\n",
            "Requirement already satisfied: keras_preprocessing in /usr/local/lib/python3.8/dist-packages (1.1.2)\n",
            "Requirement already satisfied: six>=1.9.0 in /usr/local/lib/python3.8/dist-packages (from keras_preprocessing) (1.15.0)\n",
            "Requirement already satisfied: numpy>=1.9.1 in /usr/local/lib/python3.8/dist-packages (from keras_preprocessing) (1.21.6)\n"
          ]
        }
      ]
    },
    {
      "cell_type": "code",
      "execution_count": null,
      "metadata": {
        "id": "KjYaYpebqzfT"
      },
      "outputs": [],
      "source": [
        "import pandas as pd\n",
        "import numpy as np\n",
        "import re\n",
        "import collections\n",
        "import tensorflow as tf\n",
        "import matplotlib.pyplot as plt\n",
        "from pathlib import Path\n",
        "from sklearn.model_selection import train_test_split\n",
        "from nltk.corpus import stopwords\n",
        "from keras.preprocessing.text import Tokenizer\n",
        "from keras_preprocessing.sequence import pad_sequences\n",
        "from keras.utils.np_utils import to_categorical\n",
        "from sklearn.preprocessing import LabelEncoder\n",
        "from keras import models\n",
        "from keras import layers"
      ]
    },
    {
      "cell_type": "code",
      "execution_count": null,
      "metadata": {
        "id": "nsUoflU8qlXV"
      },
      "outputs": [],
      "source": [
        "x2 = np.load('/content/gdrive/My Drive/image download/features_3_train.npy')\n",
        "# x3 = np.load('/content/gdrive/My Drive/image download/features_3_test.npy')\n",
        "# x4 = np.load('/content/gdrive/My Drive/image download/features_3_valid.npy')"
      ]
    },
    {
      "cell_type": "code",
      "source": [
        "X_img_features = np.zeros((len(df), 1000))\n",
        "# X_img_features_f_val = np.zeros((len(df), 1000))\n",
        "# X_img_features_f_test = np.zeros((len(df), 1000))"
      ],
      "metadata": {
        "id": "VNemlDNfXrQP"
      },
      "execution_count": null,
      "outputs": []
    },
    {
      "cell_type": "code",
      "source": [
        "for i in range(len(df)):\n",
        "  X_img_features[i] = x2[i]\n",
        "# for i in range(len(df2)):\n",
        "#   X_img_features_val[i] = x3[i]\n",
        "# for i in range(len(df3)):\n",
        "#   X_img_features_test[i] = x4[i]"
      ],
      "metadata": {
        "id": "2vg8LOXDXnw-"
      },
      "execution_count": null,
      "outputs": []
    },
    {
      "cell_type": "code",
      "source": [
        "zer=0\n",
        "nzer=0"
      ],
      "metadata": {
        "id": "DhPgTqxYdxid"
      },
      "execution_count": null,
      "outputs": []
    },
    {
      "cell_type": "code",
      "source": [
        "z = np.zeros(1000)"
      ],
      "metadata": {
        "id": "fTkgEsCLd7E7"
      },
      "execution_count": null,
      "outputs": []
    },
    {
      "cell_type": "code",
      "source": [
        "X_img_features[0].shape"
      ],
      "metadata": {
        "colab": {
          "base_uri": "https://localhost:8080/"
        },
        "id": "a9XkN5hReHRt",
        "outputId": "5f357b5d-fd42-4f6e-dd76-63233da262dd"
      },
      "execution_count": null,
      "outputs": [
        {
          "output_type": "execute_result",
          "data": {
            "text/plain": [
              "(1000,)"
            ]
          },
          "metadata": {},
          "execution_count": 184
        }
      ]
    },
    {
      "cell_type": "code",
      "source": [
        "for i in range(12114):\n",
        "    if X_img_features[i][0] != 0 or X_img_features[i][1] != 0 or X_img_features[i][10] != 0:\n",
        "      nzer+=1\n",
        "    else: \n",
        "      zer+=1"
      ],
      "metadata": {
        "id": "ordANTYwdlcX"
      },
      "execution_count": null,
      "outputs": []
    },
    {
      "cell_type": "code",
      "source": [
        "nzer"
      ],
      "metadata": {
        "colab": {
          "base_uri": "https://localhost:8080/"
        },
        "id": "_df_ulcBevxJ",
        "outputId": "b331a44a-0d53-4564-df3b-af4ce7e60650"
      },
      "execution_count": null,
      "outputs": [
        {
          "output_type": "execute_result",
          "data": {
            "text/plain": [
              "4161"
            ]
          },
          "metadata": {},
          "execution_count": 186
        }
      ]
    },
    {
      "cell_type": "code",
      "source": [
        "fin_lab=[]\n",
        "fin_fea=np.zeros((4161,1000))"
      ],
      "metadata": {
        "id": "tfAe4lONdfAn"
      },
      "execution_count": null,
      "outputs": []
    },
    {
      "cell_type": "code",
      "source": [
        "j=0\n",
        "for i in range(12114):\n",
        "    if X_img_features[i][0] != 0:\n",
        "      fin_fea[j] = X_img_features[i]\n",
        "      fin_lab.append(int(df['label'][i]))\n",
        "      j+=1"
      ],
      "metadata": {
        "id": "_IjSrHtMfSbz"
      },
      "execution_count": null,
      "outputs": []
    },
    {
      "cell_type": "code",
      "source": [
        "len(fin_lab)"
      ],
      "metadata": {
        "colab": {
          "base_uri": "https://localhost:8080/"
        },
        "id": "eH8z9NYff5E3",
        "outputId": "3ecde25d-e0b8-41ef-d770-f193e2fc0590"
      },
      "execution_count": null,
      "outputs": [
        {
          "output_type": "execute_result",
          "data": {
            "text/plain": [
              "4161"
            ]
          },
          "metadata": {},
          "execution_count": 189
        }
      ]
    },
    {
      "cell_type": "code",
      "source": [
        "X_img_features.shape"
      ],
      "metadata": {
        "colab": {
          "base_uri": "https://localhost:8080/"
        },
        "id": "XAbxwigWX46q",
        "outputId": "a1db7919-8b73-4266-d6a2-16840d5ced55"
      },
      "execution_count": null,
      "outputs": [
        {
          "output_type": "execute_result",
          "data": {
            "text/plain": [
              "(12114, 1000)"
            ]
          },
          "metadata": {},
          "execution_count": 190
        }
      ]
    },
    {
      "cell_type": "code",
      "execution_count": null,
      "metadata": {
        "id": "JH506NdUspWD"
      },
      "outputs": [],
      "source": [
        "df = pd.read_csv('/content/gdrive/MyDrive/dataset/tweets-train_pp_stop_012.csv')\n",
        "#df = df.reindex(np.random.permutation(df.index))\n",
        "# df = df[['tweet', 'label','bal']]\n",
        "# df.text = df.text.apply(remove_stopwords).apply(remove_mentions)\n",
        "#X_train, X_test, y_train, y_test = train_test_split(df.text, df.airline_sentiment, test_size=0.1, random_state=37)"
      ]
    },
    {
      "cell_type": "code",
      "source": [
        "x2.shape"
      ],
      "metadata": {
        "colab": {
          "base_uri": "https://localhost:8080/"
        },
        "id": "qvBHU2mkXfD5",
        "outputId": "fe1672dc-1adb-4375-c985-b9a5c43df94c"
      },
      "execution_count": null,
      "outputs": [
        {
          "output_type": "execute_result",
          "data": {
            "text/plain": [
              "(24228, 1, 1000)"
            ]
          },
          "metadata": {},
          "execution_count": 192
        }
      ]
    },
    {
      "cell_type": "code",
      "execution_count": null,
      "metadata": {
        "id": "TaqiMYJKsu1i"
      },
      "outputs": [],
      "source": [
        "# i = 8818\n",
        "# print(df['label'][i],df['tweet'][i])"
      ]
    },
    {
      "cell_type": "code",
      "execution_count": null,
      "metadata": {
        "id": "wW-eey8lsy2k"
      },
      "outputs": [],
      "source": [
        "le = LabelEncoder()\n",
        "y_train_le = le.fit_transform(fin_lab)\n",
        "#y_test_le = le.transform(y_test)\n",
        "y_train_oh = to_categorical(y_train_le)\n",
        "#y_test_oh = to_categorical(y_test_le)"
      ]
    },
    {
      "cell_type": "code",
      "execution_count": null,
      "metadata": {
        "id": "gPwTNX6hvq_V"
      },
      "outputs": [],
      "source": [
        "#y_train_oh[3]"
      ]
    },
    {
      "cell_type": "code",
      "execution_count": null,
      "metadata": {
        "id": "U4Tg7lPDsvYs"
      },
      "outputs": [],
      "source": [
        "# X_train, X_test, y_train, y_test = train_test_split(df.tweet, df.label, test_size=0.1, random_state=37)\n",
        "X_train, X_test, y_train, y_test = train_test_split(fin_fea, y_train_oh, test_size=0.1, random_state=37)"
      ]
    },
    {
      "cell_type": "code",
      "execution_count": null,
      "metadata": {
        "id": "c3FIdT9Cx9eW"
      },
      "outputs": [],
      "source": [
        "#del(tweet_emb)"
      ]
    },
    {
      "cell_type": "code",
      "execution_count": null,
      "metadata": {
        "id": "MBtIDjI2vPDA"
      },
      "outputs": [],
      "source": [
        "#X_train,y_train"
      ]
    },
    {
      "cell_type": "code",
      "execution_count": null,
      "metadata": {
        "id": "i_D4NvFxt58C"
      },
      "outputs": [],
      "source": [
        "#y_test"
      ]
    },
    {
      "cell_type": "code",
      "execution_count": null,
      "metadata": {
        "id": "W4L9eyO6uKMM"
      },
      "outputs": [],
      "source": [
        "#y_test_oh"
      ]
    },
    {
      "cell_type": "code",
      "execution_count": null,
      "metadata": {
        "id": "lAVWTELPxB_Q"
      },
      "outputs": [],
      "source": [
        "# #le = LabelEncoder()\n",
        "# #y_train_le = le.fit_transform(df['label'])\n",
        "# y_test_le = le.transform(y_test)\n",
        "# #y_train_oh = to_categorical(y_train_le)\n",
        "# y_test_oh = to_categorical(y_test_le)"
      ]
    },
    {
      "cell_type": "code",
      "execution_count": null,
      "metadata": {
        "id": "WPHqWpAeuY-m"
      },
      "outputs": [],
      "source": [
        "#X_train_emb, X_valid_emb, y_train_emb, y_valid_emb = train_test_split(X_train, y_train, test_size=0.1, random_state=37)"
      ]
    },
    {
      "cell_type": "code",
      "execution_count": null,
      "metadata": {
        "id": "NVYFvn_Y68KJ"
      },
      "outputs": [],
      "source": [
        "optim = tf.keras.optimizers.legacy.Adam(learning_rate=1e-5, decay=1e-6)  # lr 5e-5, 3e-5, 2e-5\n",
        "#optim = tf.keras.optimizers.Nadam(learning_rate=1e-5, decay=1e-6)  # lr 5e-5, 3e-5, 2e-5\n",
        "#optim = tf.keras.optimizers.Adam(learning_rate=1e-5)  # lr 5e-5, 3e-5, 2e-5\n",
        "loss_func = tf.keras.losses.CategoricalCrossentropy()\n",
        "acc = tf.keras.metrics.CategoricalAccuracy('accuracy')"
      ]
    },
    {
      "cell_type": "code",
      "execution_count": null,
      "metadata": {
        "id": "MmkriFmcupPE"
      },
      "outputs": [],
      "source": [
        "emb_model = models.Sequential()\n",
        "#emb_model.add(layers.Embedding(49795, 8, input_length=50))\n",
        "emb_model.add(layers.Flatten())\n",
        "#emb_model.add(layers.Dense(8000, activation='relu'))\n",
        "#emb_model.add(layers.Dense(4000, activation='relu'))\n",
        "#emb_model.add(layers.Dense(2000, activation='relu'))\n",
        "#emb_model.add(layers.Dense(1000, activation='relu'))\n",
        "emb_model.add(layers.Dense(500, activation='relu'))\n",
        "emb_model.add(layers.Dense(100, activation='relu'))\n",
        "emb_model.add(layers.Dense(3, activation='softmax'))\n",
        "emb_model.compile(loss=loss_func, optimizer=optim, metrics=acc)"
      ]
    },
    {
      "cell_type": "code",
      "execution_count": null,
      "metadata": {
        "id": "2daaHRXZFmhg",
        "colab": {
          "base_uri": "https://localhost:8080/"
        },
        "outputId": "692404a7-0f4f-406e-846d-e4d7e4588cc7"
      },
      "outputs": [
        {
          "output_type": "execute_result",
          "data": {
            "text/plain": [
              "[<keras.layers.reshaping.flatten.Flatten at 0x7f000cbb8880>,\n",
              " <keras.layers.core.dense.Dense at 0x7f000cbb8b80>,\n",
              " <keras.layers.core.dense.Dense at 0x7efff02b35b0>,\n",
              " <keras.layers.core.dense.Dense at 0x7efff02b3b20>]"
            ]
          },
          "metadata": {},
          "execution_count": 205
        }
      ],
      "source": [
        "emb_model.layers"
      ]
    },
    {
      "cell_type": "code",
      "execution_count": null,
      "metadata": {
        "id": "yF2EHsBAzjmX"
      },
      "outputs": [],
      "source": [
        "#emb_model.summary()"
      ]
    },
    {
      "cell_type": "code",
      "execution_count": null,
      "metadata": {
        "id": "YYBRjouRziDQ",
        "colab": {
          "base_uri": "https://localhost:8080/"
        },
        "outputId": "27f3db80-7cda-4604-96b6-93b568c99289"
      },
      "outputs": [
        {
          "output_type": "stream",
          "name": "stdout",
          "text": [
            "Epoch 1/10\n",
            "936/936 [==============================] - 7s 6ms/step - loss: 1.0882 - accuracy: 0.4148 - val_loss: 1.0810 - val_accuracy: 0.4245\n",
            "Epoch 2/10\n",
            "936/936 [==============================] - 8s 9ms/step - loss: 1.0777 - accuracy: 0.4249 - val_loss: 1.0707 - val_accuracy: 0.4532\n",
            "Epoch 3/10\n",
            "936/936 [==============================] - 10s 10ms/step - loss: 1.0702 - accuracy: 0.4455 - val_loss: 1.0632 - val_accuracy: 0.4580\n",
            "Epoch 4/10\n",
            "936/936 [==============================] - 10s 11ms/step - loss: 1.0649 - accuracy: 0.4546 - val_loss: 1.0577 - val_accuracy: 0.4676\n",
            "Epoch 5/10\n",
            "936/936 [==============================] - 6s 7ms/step - loss: 1.0610 - accuracy: 0.4549 - val_loss: 1.0536 - val_accuracy: 0.4580\n",
            "Epoch 6/10\n",
            "936/936 [==============================] - 7s 7ms/step - loss: 1.0578 - accuracy: 0.4615 - val_loss: 1.0501 - val_accuracy: 0.4604\n",
            "Epoch 7/10\n",
            "936/936 [==============================] - 5s 5ms/step - loss: 1.0548 - accuracy: 0.4637 - val_loss: 1.0467 - val_accuracy: 0.4628\n",
            "Epoch 8/10\n",
            "936/936 [==============================] - 7s 7ms/step - loss: 1.0519 - accuracy: 0.4690 - val_loss: 1.0437 - val_accuracy: 0.4676\n",
            "Epoch 9/10\n",
            "936/936 [==============================] - 5s 5ms/step - loss: 1.0489 - accuracy: 0.4752 - val_loss: 1.0408 - val_accuracy: 0.4748\n",
            "Epoch 10/10\n",
            "936/936 [==============================] - 5s 5ms/step - loss: 1.0460 - accuracy: 0.4754 - val_loss: 1.0380 - val_accuracy: 0.4748\n"
          ]
        }
      ],
      "source": [
        "history = emb_model.fit(fin_fea, y_train_oh,validation_split=0.1, epochs=10,batch_size=4)"
      ]
    },
    {
      "cell_type": "code",
      "execution_count": null,
      "metadata": {
        "id": "L3NcNmte0x1K",
        "colab": {
          "base_uri": "https://localhost:8080/"
        },
        "outputId": "79570f79-be10-4ec1-ee63-5bffa82adf6c"
      },
      "outputs": [
        {
          "output_type": "stream",
          "name": "stdout",
          "text": [
            "1041/1041 [==============================] - 4s 4ms/step - loss: 1.0433 - accuracy: 0.4785\n",
            "test loss, test acc: [1.0433282852172852, 0.4784907400608063]\n"
          ]
        }
      ],
      "source": [
        "# results = emb_model.evaluate(X_test,y_test, batch_size=6)\n",
        "results = emb_model.evaluate(fin_fea,y_train_oh, batch_size=4)\n",
        "print(\"test loss, test acc:\", results)"
      ]
    },
    {
      "cell_type": "code",
      "source": [
        "print(\"Generate a prediction\")\n",
        "prediction = emb_model.predict(fin_fea,4)\n",
        "print(\"prediction shape:\", prediction.shape)\n",
        "pred_f = np.zeros(4161)\n",
        "for i in range(4161):\n",
        "  if prediction[i][0]>prediction[i][1] and prediction[i][0]>prediction[i][2]:\n",
        "    pred_f[i] = 0\n",
        "  elif prediction[i][1]>prediction[i][0] and prediction[i][1]>prediction[i][2]:\n",
        "    pred_f[i] = 1\n",
        "  else:\n",
        "    pred_f[i] = 2\n",
        "print(\"prediction shape:\", prediction)\n",
        "np.save('/content/gdrive/My Drive/image download/47.84pred_img_0.1split.npy',pred_f)\n",
        "np.save('/content/gdrive/My Drive/image download/pred_img_0.1splitlabels.npy',fin_lab)\n",
        "# counter +=1"
      ],
      "metadata": {
        "colab": {
          "base_uri": "https://localhost:8080/"
        },
        "id": "0DoWcesPcTFI",
        "outputId": "52ffb532-932a-4b99-9cad-c49c6c6ba166"
      },
      "execution_count": null,
      "outputs": [
        {
          "output_type": "stream",
          "name": "stdout",
          "text": [
            "Generate a prediction\n",
            "1041/1041 [==============================] - 4s 4ms/step\n",
            "prediction shape: (4161, 3)\n",
            "prediction shape: [[0.2650387  0.32027113 0.41469017]\n",
            " [0.20431724 0.2888625  0.50682026]\n",
            " [0.23695219 0.3391951  0.42385265]\n",
            " ...\n",
            " [0.2620201  0.35444093 0.3835389 ]\n",
            " [0.26529774 0.3537986  0.38090375]\n",
            " [0.24166185 0.35976192 0.39857626]]\n"
          ]
        }
      ]
    },
    {
      "cell_type": "code",
      "execution_count": null,
      "metadata": {
        "id": "oCyYYiXtyNh0",
        "colab": {
          "base_uri": "https://localhost:8080/",
          "height": 200
        },
        "outputId": "94e12e67-240a-4867-b443-05e0f036065a"
      },
      "outputs": [
        {
          "output_type": "error",
          "ename": "NameError",
          "evalue": "ignored",
          "traceback": [
            "\u001b[0;31m---------------------------------------------------------------------------\u001b[0m",
            "\u001b[0;31mNameError\u001b[0m                                 Traceback (most recent call last)",
            "\u001b[0;32m<ipython-input-210-c9ae8b126fc7>\u001b[0m in \u001b[0;36m<module>\u001b[0;34m\u001b[0m\n\u001b[0;32m----> 1\u001b[0;31m \u001b[0memb_results\u001b[0m \u001b[0;34m=\u001b[0m \u001b[0mtest_model\u001b[0m\u001b[0;34m(\u001b[0m\u001b[0memb_model\u001b[0m\u001b[0;34m,\u001b[0m \u001b[0mX_train\u001b[0m\u001b[0;34m,\u001b[0m \u001b[0my_train\u001b[0m\u001b[0;34m,\u001b[0m \u001b[0mX_test\u001b[0m\u001b[0;34m,\u001b[0m \u001b[0my_test\u001b[0m\u001b[0;34m,\u001b[0m \u001b[0;36m6\u001b[0m\u001b[0;34m)\u001b[0m\u001b[0;34m\u001b[0m\u001b[0;34m\u001b[0m\u001b[0m\n\u001b[0m\u001b[1;32m      2\u001b[0m \u001b[0mprint\u001b[0m\u001b[0;34m(\u001b[0m\u001b[0;34m'/n'\u001b[0m\u001b[0;34m)\u001b[0m\u001b[0;34m\u001b[0m\u001b[0;34m\u001b[0m\u001b[0m\n\u001b[1;32m      3\u001b[0m \u001b[0mprint\u001b[0m\u001b[0;34m(\u001b[0m\u001b[0;34m'Test accuracy of word embeddings model: {0:.2f}%'\u001b[0m\u001b[0;34m.\u001b[0m\u001b[0mformat\u001b[0m\u001b[0;34m(\u001b[0m\u001b[0memb_results\u001b[0m\u001b[0;34m[\u001b[0m\u001b[0;36m1\u001b[0m\u001b[0;34m]\u001b[0m\u001b[0;34m*\u001b[0m\u001b[0;36m100\u001b[0m\u001b[0;34m)\u001b[0m\u001b[0;34m)\u001b[0m\u001b[0;34m\u001b[0m\u001b[0;34m\u001b[0m\u001b[0m\n",
            "\u001b[0;31mNameError\u001b[0m: name 'test_model' is not defined"
          ]
        }
      ],
      "source": [
        "emb_results = test_model(emb_model, X_train, y_train, X_test, y_test, 6)\n",
        "print('/n')\n",
        "print('Test accuracy of word embeddings model: {0:.2f}%'.format(emb_results[1]*100))"
      ]
    }
  ],
  "metadata": {
    "colab": {
      "provenance": []
    },
    "gpuClass": "standard",
    "kernelspec": {
      "display_name": "Python 3",
      "name": "python3"
    },
    "language_info": {
      "name": "python"
    }
  },
  "nbformat": 4,
  "nbformat_minor": 0
}